{
 "cells": [
  {
   "cell_type": "markdown",
   "metadata": {},
   "source": [
    "# Exercise 01"
   ]
  },
  {
   "cell_type": "markdown",
   "metadata": {},
   "source": [
    "# A"
   ]
  },
  {
   "cell_type": "code",
   "execution_count": 1,
   "metadata": {},
   "outputs": [
    {
     "name": "stdout",
     "output_type": "stream",
     "text": [
      "['Helle', 'Hans', 'Hanne', 'Hugo']\n"
     ]
    }
   ],
   "source": [
    "names = [\"Helle\",\"Hans\",\"Hanne\",\"Hugo\", \"Kurt\", \"Bjarne\"]\n",
    "names_with_h = [name for name in names if \"H\" in name]\n",
    "print(names_with_h)"
   ]
  },
  {
   "cell_type": "markdown",
   "metadata": {},
   "source": [
    "# B"
   ]
  },
  {
   "cell_type": "code",
   "execution_count": 2,
   "metadata": {},
   "outputs": [
    {
     "name": "stdout",
     "output_type": "stream",
     "text": [
      "cubed numbers:  [1, 8, 27, 64, 125, 216, 343, 512, 729, 1000, 1331, 1728, 2197, 2744, 3375, 4096, 4913, 5832, 6859, 8000, 9261, 10648, 12167, 13824, 15625, 17576, 19683, 21952, 24389, 27000, 29791, 32768, 35937, 39304, 42875, 46656, 50653, 54872, 59319, 64000, 68921, 74088, 79507, 85184, 91125, 97336, 103823, 110592, 117649, 125000, 132651, 140608, 148877, 157464, 166375, 175616, 185193, 195112, 205379, 216000, 226981, 238328, 250047, 262144, 274625, 287496, 300763, 314432, 328509, 343000, 357911, 373248, 389017, 405224, 421875, 438976, 456533, 474552, 493039, 512000, 531441, 551368, 571787, 592704, 614125, 636056, 658503, 681472, 704969, 729000, 753571, 778688, 804357, 830584, 857375, 884736, 912673, 941192, 970299, 1000000]\n"
     ]
    }
   ],
   "source": [
    "cubed_numbers = [i**3 for i in range(1,101)]\n",
    "print(\"Cubed numbers: \", cubed_numbers)"
   ]
  },
  {
   "cell_type": "markdown",
   "metadata": {},
   "source": [
    "# C"
   ]
  },
  {
   "cell_type": "code",
   "execution_count": 3,
   "metadata": {},
   "outputs": [
    {
     "name": "stdout",
     "output_type": "stream",
     "text": [
      "[(5, 'Helle'), (4, 'Hans'), (5, 'Hanne'), (4, 'Hugo'), (4, 'Kurt'), (6, 'Bjarne')]\n"
     ]
    }
   ],
   "source": [
    "names = [\"Helle\",\"Hans\",\"Hanne\",\"Hugo\", \"Kurt\", \"Bjarne\"]\n",
    "name_tuble_list = [(len(name), name) for name in names]\n",
    "print(name_tuble_list)"
   ]
  },
  {
   "cell_type": "markdown",
   "metadata": {},
   "source": [
    "# D"
   ]
  },
  {
   "cell_type": "code",
   "execution_count": 4,
   "metadata": {},
   "outputs": [
    {
     "name": "stdout",
     "output_type": "stream",
     "text": [
      "['3', '2', '4', '2', '6', '1', '2', '3']\n"
     ]
    }
   ],
   "source": [
    "str1 = \"nvfj32426lk123j\"\n",
    "numbers = [c for c in str1 if c.isdigit()]\n",
    "print(numbers)\n"
   ]
  },
  {
   "cell_type": "markdown",
   "metadata": {},
   "source": [
    "# E"
   ]
  },
  {
   "cell_type": "code",
   "execution_count": 8,
   "metadata": {},
   "outputs": [
    {
     "name": "stdout",
     "output_type": "stream",
     "text": [
      "{2, 3, 4, 5, 6, 7, 8, 9, 10, 11, 12}\n"
     ]
    }
   ],
   "source": [
    "dice_combinations = set([i+j for i in range(1,7) \n",
    "                        for j in range(1,7)])\n",
    "print(dice_combinations)"
   ]
  },
  {
   "cell_type": "markdown",
   "metadata": {},
   "source": [
    "# Exercise 02"
   ]
  },
  {
   "cell_type": "markdown",
   "metadata": {},
   "source": [
    "# A"
   ]
  },
  {
   "cell_type": "code",
   "execution_count": 11,
   "metadata": {},
   "outputs": [
    {
     "name": "stdout",
     "output_type": "stream",
     "text": [
      "{'Helle': 5, 'Hans': 4, 'Hanne': 5, 'Hugo': 4, 'Kurt': 4, 'Bjarne': 6}\n"
     ]
    }
   ],
   "source": [
    "names = [\"Helle\",\"Hans\",\"Hanne\",\"Hugo\", \"Kurt\", \"Bjarne\"]\n",
    "name_dict = {}\n",
    "for name in names:\n",
    "    name_dict[name] = len(name) \n",
    "print(name_dict)"
   ]
  },
  {
   "cell_type": "markdown",
   "metadata": {},
   "source": [
    "# B"
   ]
  },
  {
   "cell_type": "code",
   "execution_count": 15,
   "metadata": {},
   "outputs": [
    {
     "name": "stdout",
     "output_type": "stream",
     "text": [
      "{2: 1.4142135623730951, 4: 2.0, 6: 2.449489742783178, 23: 4.795831523312719, 7: 2.6457513110645907, 9: 3.0}\n"
     ]
    }
   ],
   "source": [
    "import math\n",
    "numbers = [2,4,6,23,7,9]\n",
    "number_dict = {}\n",
    "for n in numbers:\n",
    "    number_dict[n] = math.sqrt(n)\n",
    "print(number_dict)"
   ]
  },
  {
   "cell_type": "markdown",
   "metadata": {},
   "source": [
    "# Exercise 03"
   ]
  },
  {
   "cell_type": "code",
   "execution_count": 21,
   "metadata": {},
   "outputs": [
    {
     "name": "stdout",
     "output_type": "stream",
     "text": [
      "{2: 2.7777777777777777, 3: 5.555555555555555, 4: 8.333333333333332, 5: 11.11111111111111, 6: 13.88888888888889, 7: 16.666666666666664, 8: 13.88888888888889, 9: 11.11111111111111, 10: 8.333333333333332, 11: 5.555555555555555, 12: 2.7777777777777777}\n"
     ]
    }
   ],
   "source": [
    "from collections import Counter\n",
    "dice_combinations = [i+j for i in range(1,7) \n",
    "                        for j in range(1,7)]\n",
    "dice_roll_dict = {}\n",
    "\n",
    "counter_dict = dict(Counter(dice_combinations))\n",
    "\n",
    "for key, value in counter_dict.items():\n",
    "    dice_roll_dict[key] = value / len(dice_combinations)*100\n",
    "\n",
    "print(dice_roll_dict)"
   ]
  }
 ],
 "metadata": {
  "kernelspec": {
   "display_name": "Python 3",
   "language": "python",
   "name": "python3"
  },
  "language_info": {
   "codemirror_mode": {
    "name": "ipython",
    "version": 3
   },
   "file_extension": ".py",
   "mimetype": "text/x-python",
   "name": "python",
   "nbconvert_exporter": "python",
   "pygments_lexer": "ipython3",
   "version": "3.7.6"
  }
 },
 "nbformat": 4,
 "nbformat_minor": 4
}
