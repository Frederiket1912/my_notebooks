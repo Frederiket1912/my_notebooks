{
 "cells": [
  {
   "cell_type": "code",
   "execution_count": 4,
   "metadata": {},
   "outputs": [
    {
     "name": "stdout",
     "output_type": "stream",
     "text": [
      "Name: \n",
      "Type: Graph\n",
      "Number of nodes: 1965206\n",
      "Number of edges: 2766607\n",
      "Average degree:   2.8156\n"
     ]
    }
   ],
   "source": [
    "#Data from: https://snap.stanford.edu/data/roadNet-CA.txt.gz\n",
    "\n",
    "#1. Via Docker\n",
    "  #1. Download data from https://snap.stanford.edu/data/roadNet-CA.txt.gz use of tqdm to show the installation is optional.\n",
    "  #2. Unzip the file.\n",
    "\n",
    "\n",
    "\n",
    "#4. Now try getting the first 200 Node IDs from roadNet-CA.txt and once again create a Directed Graph. And again Nodes that do not have a neighbour set these as cornors.\n",
    "\n",
    "#Help if needed: https://www.python-course.eu/graphs_python.php\n",
    "import sys\n",
    "import os\n",
    "sys.path.append(os.path.abspath('../modules'))\n",
    "\n",
    "import webget\n",
    "from tqdm import tqdm\n",
    "import gzip\n",
    "import networkx as nx\n",
    "\n",
    "#tqdm(webget.download('https://snap.stanford.edu/data/roadNet-CA.txt.gz', to='./data/roadnet_data.txt.gz'))\n",
    "\n",
    "#with gzip.open('data/roadnet_data.txt.gz', 'rb') as f_in:\n",
    "    #rn_data = f_in.read()\n",
    "    #with open('data/roadnet_data.txt', 'wb') as f_out:\n",
    "        #f_out.write(rn_data)\n",
    "\n",
    "g = nx.read_edgelist('data/roadnet_data.txt')\n",
    "\n"
   ]
  },
  {
   "cell_type": "code",
   "execution_count": 21,
   "metadata": {},
   "outputs": [
    {
     "name": "stdout",
     "output_type": "stream",
     "text": [
      "87787225\n",
      "{'25': {}, '28': {}, '29': {}}\n",
      "['25', '28', '29', '27']\n",
      "['25', '28', '29', '27']\n",
      "[(25, 23), (25, 26), (25, 27), (28, 27), (29, 27), (29, 30), (29, 3255), (27, 25), (27, 28), (27, 29)]\n",
      "['25', '28', '29', '27', '23', '26', '30', '3255']\n",
      "Name: \n",
      "Type: DiGraph\n",
      "Number of nodes: 16\n",
      "Number of edges: 10\n",
      "Average in degree:   0.6250\n",
      "Average out degree:   0.6250\n"
     ]
    },
    {
     "data": {
      "image/png": "[encoded data removed]",
      "text/plain": [
       "<Figure size 432x288 with 1 Axes>"
      ]
     },
     "metadata": {},
     "output_type": "display_data"
    }
   ],
   "source": [
    "#2. Print out the length of roadNet-CA.txt and find the Node ID '27'.\n",
    "  #1. Find the neighbours of 27 and print these out\n",
    "\n",
    "\n",
    "import pygraphviz\n",
    "import matplotlib.pyplot as plt\n",
    "from networkx.drawing.nx_agraph import graphviz_layout, write_dot\n",
    "\n",
    "with open('data/roadnet_data.txt', 'rb') as f_out:\n",
    "    print(len(f_out.read()))\n",
    "\n",
    "#g = nx.read_edgelist('data/roadnet_data.txt')\n",
    "print(g['27'])\n",
    "\n",
    "  #2. With this knowledge create a small Directed Graph of this data. For the neighbours that are not 'known',\n",
    "     #add these as cornors (without a connection further)\n",
    "        \n",
    "paths = []\n",
    "node_list = list(g.neighbors('27'))\n",
    "node_list.append('27')\n",
    "print(node_list)\n",
    "\n",
    "all_node_list = node_list[:]\n",
    "print(all_node_list)\n",
    "\n",
    "for node in node_list:\n",
    "    neighbors = g.neighbors(node)\n",
    "    for n in neighbors:\n",
    "        paths.append((int(node), int(n)))\n",
    "        if n not in all_node_list:\n",
    "            all_node_list.append(n)\n",
    "            \n",
    "print(paths)\n",
    "print(all_node_list)\n",
    "\n",
    "graph = nx.DiGraph()\n",
    "graph.add_nodes_from(all_node_list)\n",
    "graph.add_edges_from(paths)\n",
    "\n",
    "#3. Find the amount of Edges of roadNet-CA.txt and Nodes and print these out\n",
    "print(nx.info(g))\n",
    "\n",
    "\n",
    "\n"
   ]
  },
  {
   "cell_type": "code",
   "execution_count": 22,
   "metadata": {},
   "outputs": [
    {
     "data": {
      "image/png": "[encoded data removed]",
      "text/plain": [
       "<Figure size 432x288 with 1 Axes>"
      ]
     },
     "metadata": {},
     "output_type": "display_data"
    }
   ],
   "source": [
    "#3. Visualize this data using networkx and pygraphviz\n",
    "nx.draw(graph, pos=graphviz_layout(graph), \n",
    "            node_size=30, width=.05, cmap=plt.cm.Blues, \n",
    "            with_labels=True, node_color=range(len(graph)))"
   ]
  }
 ],
 "metadata": {
  "kernelspec": {
   "display_name": "Python 3",
   "language": "python",
   "name": "python3"
  },
  "language_info": {
   "codemirror_mode": {
    "name": "ipython",
    "version": 3
   },
   "file_extension": ".py",
   "mimetype": "text/x-python",
   "name": "python",
   "nbconvert_exporter": "python",
   "pygments_lexer": "ipython3",
   "version": "3.7.6"
  }
 },
 "nbformat": 4,
 "nbformat_minor": 4
}
