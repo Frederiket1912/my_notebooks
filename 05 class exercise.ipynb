{
 "cells": [
  {
   "cell_type": "code",
   "execution_count": 15,
   "metadata": {},
   "outputs": [
    {
     "name": "stdout",
     "output_type": "stream",
     "text": [
      "     Col1 Col2 col3\n",
      "Row1    1    2    3\n",
      "Row2    4    5    6\n",
      "Row3    7    8    9\n",
      "Index(['Row1', 'Row2', 'Row3'], dtype='object')\n",
      "Index(['Col1', 'Col2', 'col3'], dtype='object') \n",
      "\n",
      "Row1    2\n",
      "Row2    5\n",
      "Row3    8\n",
      "Name: Col2, dtype: object \n",
      "\n",
      "Row1    3\n",
      "Row2    6\n",
      "Row3    9\n",
      "Name: col3, dtype: object \n",
      "\n",
      "8\n"
     ]
    }
   ],
   "source": [
    "import pandas as pd\n",
    "import numpy as np\n",
    "\n",
    "data = np.array([['','Col1','Col2','col3'],\n",
    "                ['Row1',1,2,3],\n",
    "                ['Row2',4,5,6],\n",
    "                ['Row3',7,8,9]])\n",
    "\n",
    "df = pd.DataFrame(data=data[1:,1:],\n",
    "                  index=data[1:,0],\n",
    "                  columns=data[0,1:])\n",
    "\n",
    "print(df);print(df.index);print(df.columns, '\\n')\n",
    "\n",
    "#second column using column name\n",
    "print(df['Col2'], '\\n')\n",
    "\n",
    "#third column using column index (.iloc[])\n",
    "print(df.iloc[:,2], '\\n')\n",
    "\n",
    "#slice element at third row of second column (use .iloc())\n",
    "print(df.iloc[2,1])\n",
    "\n",
    "\n",
    "\n"
   ]
  },
  {
   "cell_type": "code",
   "execution_count": 40,
   "metadata": {},
   "outputs": [
    {
     "name": "stdout",
     "output_type": "stream",
     "text": [
      "0             Aruba\n",
      "1       Afghanistan\n",
      "2            Angola\n",
      "3           Albania\n",
      "4           Andorra\n",
      "           ...     \n",
      "259          Kosovo\n",
      "260     Yemen, Rep.\n",
      "261    South Africa\n",
      "262          Zambia\n",
      "263        Zimbabwe\n",
      "Name: Country Name, Length: 264, dtype: object\n"
     ]
    }
   ],
   "source": [
    "data = pd.read_csv('../data/API_EN.ATM.CO2E.KT_DS2_en_csv_v2_887574.csv', skiprows=4)\n",
    "columns_names = data.columns\n",
    "#print('column names:\\n',list(columns_names),'\\n\\n')\n",
    "countries = data['Country Name']\n",
    "print(countries)\n",
    "data = data.set_index(countries)\n",
    "emissions = data['2014']\n",
    "#print(\"{} countries are in the dataset.\".format(len(countries)))\n",
    "#print('countries are of data type: ',type(countries))\n",
    "#print(list(countries))\n",
    "\n",
    "#Create a Pandas Series with emission data from 2014 for each country or region\n",
    "emission_series = pd.Series(list(emissions), list(countries))\n",
    "#print(emission_series, '\\n')\n",
    "\n",
    "#Find the 10 Countries/Regions with the highest emissions in 2014 and show emission numbers (reverse sorted)\n",
    "emission_series_sorted = emission_series.sort_values(ascending=False)\n",
    "top_ten = emission_series_sorted[0:10,]\n",
    "#print(top_ten)\n",
    "\n",
    "#Plot the emissions of China and USA over time respectively\n",
    "china_data = data.loc['China'][3:]\n",
    "usa_data = data.loc['United States'][3:]\n",
    "\n"
   ]
  }
 ],
 "metadata": {
  "kernelspec": {
   "display_name": "Python 3",
   "language": "python",
   "name": "python3"
  },
  "language_info": {
   "codemirror_mode": {
    "name": "ipython",
    "version": 3
   },
   "file_extension": ".py",
   "mimetype": "text/x-python",
   "name": "python",
   "nbconvert_exporter": "python",
   "pygments_lexer": "ipython3",
   "version": "3.7.6"
  }
 },
 "nbformat": 4,
 "nbformat_minor": 4
}
