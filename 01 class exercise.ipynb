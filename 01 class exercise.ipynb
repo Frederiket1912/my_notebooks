{
 "cells": [
  {
   "cell_type": "markdown",
   "metadata": {},
   "source": [
    "# Class exercise 1:\n",
    "\n",
    "![](https://miro.medium.com/max/1266/1*Pb8oEA1nGIONsSJk7QSVzg.png)"
   ]
  },
  {
   "cell_type": "code",
   "execution_count": 3,
   "metadata": {},
   "outputs": [
    {
     "name": "stdout",
     "output_type": "stream",
     "text": [
      "Enter first number:3\n",
      "Enter second number4\n",
      "The value of the two numbers multiplied is: 12\n"
     ]
    }
   ],
   "source": [
    "number_1 = input(\"Enter first number:\")\n",
    "number_2 = input(\"Enter second number\")\n",
    "value = int(number_1) * int(number_2)\n",
    "print(\"The value of the two numbers multiplied is: \" + str(value))"
   ]
  },
  {
   "cell_type": "markdown",
   "metadata": {},
   "source": [
    "# Class exercise 02\n"
   ]
  },
  {
   "cell_type": "code",
   "execution_count": 10,
   "metadata": {},
   "outputs": [
    {
     "name": "stdout",
     "output_type": "stream",
     "text": [
      "odd list [1, 3, 5, 7, 9, 11, 13, 15, 17, 19]\n",
      "min value in even list : 2\n",
      "max value in even list : 2000000\n",
      "sum of all values in even list 1000001000000\n",
      "multiples of 3 from 3 to 300 : [3, 6, 9, 12, 15, 18, 21, 24, 27, 30, 33, 36, 39, 42, 45, 48, 51, 54, 57, 60, 63, 66, 69, 72, 75, 78, 81, 84, 87, 90, 93, 96, 99, 102, 105, 108, 111, 114, 117, 120, 123, 126, 129, 132, 135, 138, 141, 144, 147, 150, 153, 156, 159, 162, 165, 168, 171, 174, 177, 180, 183, 186, 189, 192, 195, 198, 201, 204, 207, 210, 213, 216, 219, 222, 225, 228, 231, 234, 237, 240, 243, 246, 249, 252, 255, 258, 261, 264, 267, 270, 273, 276, 279, 282, 285, 288, 291, 294, 297, 300]\n",
      "list of ten first cubes : [1, 8, 27, 64, 125, 216, 343, 512, 729, 1000]\n"
     ]
    }
   ],
   "source": [
    "odd_list = [i for i in range(20) if i%2 == 1]\n",
    "print(\"odd list\", odd_list)\n",
    "\n",
    "even_list = [i for i in range(2,2000001) if i%2 == 0]\n",
    "print(\"min value in even list :\" , min(even_list))\n",
    "print(\"max value in even list :\" , max(even_list))\n",
    "print(\"sum of all values in even list\" , sum(even_list))\n",
    "\n",
    "multi_3_list = [i for i in range(3,301) if i%3 == 0]\n",
    "print(\"multiples of 3 from 3 to 300 :\" , multi_3_list)\n",
    "\n",
    "cubes_list = [i**3 for i in range(1,11)]\n",
    "print(\"list of ten first cubes :\" , cubes_list)"
   ]
  },
  {
   "cell_type": "code",
   "execution_count": 11,
   "metadata": {},
   "outputs": [
    {
     "name": "stdout",
     "output_type": "stream",
     "text": [
      "0.000183999999990192\n"
     ]
    }
   ],
   "source": [
    "import timeit\n",
    "\n",
    "cmd = '\"-\".join(str(n) for n in range(100))'\n",
    "print(timeit.timeit(cmd, number=10))"
   ]
  },
  {
   "cell_type": "markdown",
   "metadata": {},
   "source": [
    "# Class ecersise 03"
   ]
  },
  {
   "cell_type": "code",
   "execution_count": 18,
   "metadata": {},
   "outputs": [
    {
     "name": "stdout",
     "output_type": "stream",
     "text": [
      "8-3-85\n"
     ]
    }
   ],
   "source": [
    "month_dict = {'JAN' : 1, \"FEB\" : 2, \"MAR\" : 3, \"APR\" : 4, \"MAY\" : 5, \"JUN\" : 6, \"JUL\" : 7, \"AUG\" : 8, \"SEP\" : 9, \"OCT\" : 10, \"NOV\" : 11, \"DEC\" : 12}\n",
    "\n",
    "def date_reformat(date):\n",
    "    split_date = date.split(\"-\")\n",
    "    month = split_date[1]\n",
    "    month_number = month_dict[month]\n",
    "    split_date[1] = month_number\n",
    "    return \"-\".join([str(elem) for elem in split_date])\n",
    "    \n",
    "\n",
    "print(date_reformat(\"8-MAR-85\"))\n",
    "    \n",
    "    \n",
    "    "
   ]
  }
 ],
 "metadata": {
  "kernelspec": {
   "display_name": "Python 3",
   "language": "python",
   "name": "python3"
  },
  "language_info": {
   "codemirror_mode": {
    "name": "ipython",
    "version": 3
   },
   "file_extension": ".py",
   "mimetype": "text/x-python",
   "name": "python",
   "nbconvert_exporter": "python",
   "pygments_lexer": "ipython3",
   "version": "3.7.6"
  }
 },
 "nbformat": 4,
 "nbformat_minor": 4
}
