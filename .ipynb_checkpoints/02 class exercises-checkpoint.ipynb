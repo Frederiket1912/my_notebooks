{
 "cells": [
  {
   "cell_type": "markdown",
   "metadata": {},
   "source": [
    "# 02 Loops\n"
   ]
  },
  {
   "cell_type": "code",
   "execution_count": 3,
   "metadata": {},
   "outputs": [
    {
     "name": "stdout",
     "output_type": "stream",
     "text": [
      "other time be\n",
      "other time be\n",
      "other time have\n",
      "other time do\n",
      "other time say\n",
      "other year be\n",
      "other year have\n",
      "other year do\n",
      "other year say\n",
      "other people be\n",
      "other people have\n",
      "other people do\n",
      "other people say\n",
      "other way be\n",
      "other way have\n",
      "other way do\n",
      "other way say\n",
      "new time be\n",
      "new time have\n",
      "new time do\n",
      "new time say\n",
      "new year be\n",
      "new year have\n",
      "new year do\n",
      "new year say\n",
      "new people be\n",
      "new people have\n",
      "new people do\n",
      "new people say\n",
      "new way be\n",
      "new way have\n",
      "new way do\n",
      "new way say\n",
      "good time be\n",
      "good time have\n",
      "good time do\n",
      "good time say\n",
      "good year be\n",
      "good year have\n",
      "good year do\n",
      "good year say\n",
      "good people be\n",
      "good people have\n",
      "good people do\n",
      "good people say\n",
      "good way be\n",
      "good way have\n",
      "good way do\n",
      "good way say\n",
      "high time be\n",
      "high time have\n",
      "high time do\n",
      "high time say\n",
      "high year be\n",
      "high year have\n",
      "high year do\n",
      "high year say\n",
      "high people be\n",
      "high people have\n",
      "high people do\n",
      "high people say\n",
      "high way be\n",
      "high way have\n",
      "high way do\n",
      "high way say\n"
     ]
    }
   ],
   "source": [
    "verbs = ['be','have','do','say']\n",
    "nouns = ['time', 'year', 'people', 'way']\n",
    "adjectives = ['other', 'new', 'good', 'high']\n",
    "\n",
    "import random\n",
    "\n",
    "verb_ = verbs[random.randrange(0,len(verbs))]\n",
    "noun_ = nouns[random.randrange(0,len(nouns))]\n",
    "adj_ = adjectives[random.randrange(0,len(adjectives))]\n",
    "\n",
    "print(adj_ + \" \" + noun_ + \" \" + verb_)\n",
    "\n",
    "for adj in adjectives:\n",
    "    for noun in nouns:\n",
    "        for verb in verbs:\n",
    "            print(adj + \" \" + noun + \" \" + verb)"
   ]
  },
  {
   "cell_type": "markdown",
   "metadata": {},
   "source": [
    "# 02 Functions\n"
   ]
  },
  {
   "cell_type": "code",
   "execution_count": 4,
   "metadata": {},
   "outputs": [
    {
     "ename": "SyntaxError",
     "evalue": "Missing parentheses in call to 'print'. Did you mean print(names[idx])? (<ipython-input-4-7a63770e0de1>, line 16)",
     "output_type": "error",
     "traceback": [
      "\u001b[0;36m  File \u001b[0;32m\"<ipython-input-4-7a63770e0de1>\"\u001b[0;36m, line \u001b[0;32m16\u001b[0m\n\u001b[0;31m    print names[idx]\u001b[0m\n\u001b[0m              ^\u001b[0m\n\u001b[0;31mSyntaxError\u001b[0m\u001b[0;31m:\u001b[0m Missing parentheses in call to 'print'. Did you mean print(names[idx])?\n"
     ]
    }
   ],
   "source": [
    "names = [\"Per\", \"Hans\", \"Helle\"]\n",
    "\n",
    "def rec_func(idx):\n",
    "    if(idx < len(names)):\n",
    "        print(names[idx])\n",
    "        rec_func(idx+1)\n",
    "    else:\n",
    "        return\n"
   ]
  }
 ],
 "metadata": {
  "kernelspec": {
   "display_name": "Python 3",
   "language": "python",
   "name": "python3"
  },
  "language_info": {
   "codemirror_mode": {
    "name": "ipython",
    "version": 3
   },
   "file_extension": ".py",
   "mimetype": "text/x-python",
   "name": "python",
   "nbconvert_exporter": "python",
   "pygments_lexer": "ipython3",
   "version": "3.7.6"
  }
 },
 "nbformat": 4,
 "nbformat_minor": 4
}
