{
 "cells": [
  {
   "cell_type": "code",
   "execution_count": null,
   "metadata": {},
   "outputs": [],
   "source": [
    "#Data from: https://snap.stanford.edu/data/roadNet-CA.txt.gz\n",
    "\n",
    "#1. Via Docker\n",
    "  #1. Download data from https://snap.stanford.edu/data/roadNet-CA.txt.gz use of tqdm to show the installation is optional.\n",
    "  #2. Unzip the file.\n",
    "\n",
    "#3. Visualize this data using networkx and pygraphviz\n",
    "\n",
    "#4. Now try getting the first 200 Node IDs from roadNet-CA.txt and once again create a Directed Graph. And again Nodes that do not have a neighbour set these as cornors.\n",
    "\n",
    "#Help if needed: https://www.python-course.eu/graphs_python.php\n",
    "import sys\n",
    "import os\n",
    "sys.path.append(os.path.abspath('../modules'))\n",
    "\n",
    "import webget\n",
    "from tqdm import tqdm\n",
    "import gzip\n",
    "import networkx as nx\n",
    "\n",
    "#tqdm(webget.download('https://snap.stanford.edu/data/roadNet-CA.txt.gz', to='./data/roadnet_data.txt.gz'))\n",
    "\n",
    "#with gzip.open('data/roadnet_data.txt.gz', 'rb') as f_in:\n",
    "    #rn_data = f_in.read()\n",
    "    #with open('data/roadnet_data.txt', 'wb') as f_out:\n",
    "        #f_out.write(rn_data)\n",
    "\n",
    "g = nx.read_edgelist('data/roadnet_data.txt')\n",
    "print(nx.info(g))\n"
   ]
  },
  {
   "cell_type": "code",
   "execution_count": null,
   "metadata": {},
   "outputs": [],
   "source": [
    "#2. Print out the length of roadNet-CA.txt and find the Node ID '27'.\n",
    "  #1. Find the neighbours of 27 and print these out\n",
    "  #2. With this knowledge create a small Directed Graph of this data. For the neighbours that are not 'known',\n",
    "     #add these as cornors (without a connection further)\n",
    "  #3. Find the amount of Edges of roadNet-CA.txt and Nodes and print these out\n",
    "    \n",
    "with open('data/roadnet_data.txt', 'rb') as f_out:\n",
    "    print(len(f_out.read()))\n",
    "\n",
    "#g = nx.read_edgelist('data/roadnet_data.txt')\n",
    "print(g['27'])\n",
    "\n",
    "paths = []\n",
    "node_list = list(g.neighbors('27'))\n",
    "node_list.append('27')\n",
    "print(node_list)\n",
    "\n",
    "all_node_list = node_list\n",
    "#print(all_node_list)\n",
    "\n",
    "for node in node_list:\n",
    "    neighbors = g.neighbors(node)\n",
    "    for n in neighbors:\n",
    "        paths.append((int(node), int(n)))\n",
    "        #if n not in all_node_list:\n",
    "            #all_node_list.append(n)\n",
    "            \n",
    "print(paths)\n",
    "print(all_node_list)\n",
    "\n",
    "#graph = nx.DiGraph()\n",
    "#for idx, no in enumerate(node_list):\n",
    "    #graph.add_node(idx, name=no)\n",
    "    \n"
   ]
  }
 ],
 "metadata": {
  "kernelspec": {
   "display_name": "Python 3",
   "language": "python",
   "name": "python3"
  },
  "language_info": {
   "codemirror_mode": {
    "name": "ipython",
    "version": 3
   },
   "file_extension": ".py",
   "mimetype": "text/x-python",
   "name": "python",
   "nbconvert_exporter": "python",
   "pygments_lexer": "ipython3",
   "version": "3.7.6"
  }
 },
 "nbformat": 4,
 "nbformat_minor": 4
}
