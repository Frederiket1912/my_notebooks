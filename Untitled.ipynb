{
 "cells": [
  {
   "cell_type": "code",
   "execution_count": 2,
   "metadata": {},
   "outputs": [
    {
     "name": "stdout",
     "output_type": "stream",
     "text": [
      "TABLE COLUMNS:  ('id', 'customer_name', 'customer_address', 'account', 'joined') \n",
      "\n",
      "(1, 'Freddy M', 'Hallway 22, 34322 moral county', 1000.0, datetime.datetime(2002, 2, 3, 23, 0))\n",
      "(2, 'Janice F', 'Hallway 24, 34322 moral county', 2000.0, datetime.datetime(2001, 2, 4, 23, 0))\n",
      "(4, 'Freddy MÃ¥lÃ¸v', 'Hallway 22, 34322 moral county', 1000.0, datetime.datetime(2002, 2, 3, 23, 0))\n"
     ]
    }
   ],
   "source": [
    "#Use the ex1 table on the mysql_notebooks server\n",
    "#Select only those customers with less than $3000 on the account\n",
    "\n",
    "import mysql.connector as mysql\n",
    "\n",
    "db = mysql.connect(\n",
    "    # connect to the mysql server running in container with service name: db. CAUTION data here are not persisted past container lifespan\n",
    "    host = \"db\",\n",
    "    user = \"root\",\n",
    "    passwd = \"root\",\n",
    "    db = \"db\"\n",
    "    #,charset='latin1'\n",
    "    #,collation='latin1_danish_ci'\n",
    ")\n",
    "\n",
    "\n",
    "cur = db.cursor()\n",
    "query = 'select * from ex1 where account < 3000'\n",
    "cur.execute(query)\n",
    "print('TABLE COLUMNS: ',cur.column_names,'\\n')\n",
    "\n",
    "myresult = cur.fetchall()\n",
    "\n",
    "for x in myresult:\n",
    "    print(x)"
   ]
  },
  {
   "cell_type": "code",
   "execution_count": 7,
   "metadata": {},
   "outputs": [
    {
     "name": "stdout",
     "output_type": "stream",
     "text": [
      "kol1,kol2,kol3\n",
      "1,2,3\n",
      "INSERT INTO test (kol1,kol2,kol3) VALUES (1,2,3)\n"
     ]
    }
   ],
   "source": [
    "#Create a function that can take a dict and a table name and persist all\n",
    "#values of the dict into the table columns corresponding to the dict keys.\n",
    "\n",
    "def update_db(content, table):\n",
    "    cnx = mysql.connect(host = \"db\", user = \"root\", passwd = \"root\", db = \"db\")\n",
    "    cursor = cnx.cursor(prepared=True)\n",
    "    \n",
    "    cursor.execute('DROP TABLE IF EXISTS '+table)\n",
    "    \n",
    "    sql ='''CREATE TABLE test(\n",
    "       kol1 INT,\n",
    "       kol2 INT,\n",
    "       kol3 INT\n",
    "    )'''\n",
    "    cursor.execute(sql)\n",
    "    \n",
    "    data_keys = content.keys()\n",
    "    data_values = content.values()\n",
    "    \n",
    "    keys_string = ','.join(data_keys)\n",
    "    values_string = ','.join(data_values)\n",
    "    \n",
    "    add_data = 'INSERT INTO '+table+' ('+keys_string+') VALUES ('+values_string+')'\n",
    "\n",
    "    cursor.execute(add_data)\n",
    "    cnx.commit()\n",
    "    \n",
    "    cursor.close()\n",
    "    cnx.close()\n",
    "    \n",
    "content = {'kol1':'1', 'kol2':'2', 'kol3':'3'}\n",
    "update_db(content, 'test')"
   ]
  }
 ],
 "metadata": {
  "kernelspec": {
   "display_name": "Python 3",
   "language": "python",
   "name": "python3"
  },
  "language_info": {
   "codemirror_mode": {
    "name": "ipython",
    "version": 3
   },
   "file_extension": ".py",
   "mimetype": "text/x-python",
   "name": "python",
   "nbconvert_exporter": "python",
   "pygments_lexer": "ipython3",
   "version": "3.7.6"
  }
 },
 "nbformat": 4,
 "nbformat_minor": 4
}
