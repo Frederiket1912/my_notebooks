{
 "cells": [
  {
   "cell_type": "markdown",
   "metadata": {},
   "source": [
    "# Exercise 2\n"
   ]
  },
  {
   "cell_type": "code",
   "execution_count": 24,
   "metadata": {},
   "outputs": [
    {
     "name": "stdout",
     "output_type": "stream",
     "text": [
      "book0.txt\n",
      "book1.txt\n",
      "{'book0.txt': 1.799644084437899}\n",
      "{'book1.txt': 2.0917094508183047}\n",
      "{'book2.txt': 1.8704167920050805}\n",
      "{'book3.txt': 1.5773733230795524}\n",
      "{'book4.txt': 1.7899752429056617}\n",
      "{'book5.txt': 1.6835603112840467}\n",
      "{'book6.txt': 1.799474359375489}\n",
      "{'book7.txt': 1.8076573805548233}\n",
      "{'book8.txt': 1.72084048983962}\n",
      "{'book9.txt': 1.893176400476758}\n",
      "most average vowels:  ('book1.txt', 2.0917094508183047)\n"
     ]
    }
   ],
   "source": [
    "#Create a notebook and import your module from above\n",
    "\n",
    "#Find 10 books on https://www.gutenberg.org/browse/scores/top and download them using an object of the class you just created before\n",
    "#Test the different methods of your class\n",
    "#Make a bar plot with a sorted list of books on x-axis and avg vowels on y-axis\n",
    "%reload_ext autoreload\n",
    "%autoreload 2\n",
    "from my_modules.book_handler import BookHandler\n",
    "\n",
    "book_urls = ['https://www.gutenberg.org/files/1342/1342-h/1342-h.htm',\n",
    "             'https://www.gutenberg.org/files/16328/16328-h/16328-h.htm',\n",
    "            'https://www.gutenberg.org/files/25344/25344-h/25344-h.htm',\n",
    "            'https://www.gutenberg.org/files/1250/1250-h/1250-h.htm',\n",
    "            'https://www.gutenberg.org/files/84/84-h/84-h.htm',\n",
    "            'https://www.gutenberg.org/files/1952/1952-h/1952-h.htm',\n",
    "            'https://www.gutenberg.org/files/11/11-h/11-h.htm',\n",
    "            'https://www.gutenberg.org/files/2542/2542-h/2542-h.htm',\n",
    "            'https://www.gutenberg.org/files/23/23-h/23-h.htm',\n",
    "            'https://www.gutenberg.org/files/1080/1080-h/1080-h.htm']\n",
    "\n",
    "#bh = BookHandler(book_urls)\n",
    "\n",
    "#bh.multi_download()\n",
    "\n",
    "bh_iterator = iter(bh)\n",
    "print(next(bh_iterator))\n",
    "print(next(bh_iterator))\n",
    "\n",
    "#print(bh.files)\n",
    "print(bh.avg_vowels('book0.txt'))\n",
    "print(bh.avg_vowels('book1.txt'))\n",
    "print(bh.avg_vowels('book2.txt'))\n",
    "print(bh.avg_vowels('book3.txt'))\n",
    "print(bh.avg_vowels('book4.txt'))\n",
    "print(bh.avg_vowels('book5.txt'))\n",
    "print(bh.avg_vowels('book6.txt'))\n",
    "print(bh.avg_vowels('book7.txt'))\n",
    "print(bh.avg_vowels('book8.txt'))\n",
    "print(bh.avg_vowels('book9.txt'))\n",
    "print('most average vowels: ',bh.hardest_read())\n"
   ]
  }
 ],
 "metadata": {
  "kernelspec": {
   "display_name": "Python 3",
   "language": "python",
   "name": "python3"
  },
  "language_info": {
   "codemirror_mode": {
    "name": "ipython",
    "version": 3
   },
   "file_extension": ".py",
   "mimetype": "text/x-python",
   "name": "python",
   "nbconvert_exporter": "python",
   "pygments_lexer": "ipython3",
   "version": "3.7.6"
  }
 },
 "nbformat": 4,
 "nbformat_minor": 4
}
