{
 "cells": [
  {
   "cell_type": "code",
   "execution_count": 21,
   "metadata": {},
   "outputs": [
    {
     "name": "stdout",
     "output_type": "stream",
     "text": [
      "2\n",
      "9\n"
     ]
    }
   ],
   "source": [
    "#Use BeautifulSoup to extract all titles on all radio programs https://www.dr.dk/radio/programmer\n",
    "\n",
    "#First find how many pages there are\n",
    "#Then find all titles on https://www.dr.dk/radio/programmer?side=1\n",
    "#Then find all titles on all pages\n",
    "\n",
    "import bs4\n",
    "import requests\n",
    "\n",
    "r = requests.get('https://www.dr.dk/radio/programmer')\n",
    "r.raise_for_status()\n",
    "\n",
    "soup = bs4.BeautifulSoup(r.text, 'html.parser')\n",
    "elems = soup.select('.search-filters__btns-container')\n",
    "#print(soup.prettify())\n",
    "print(len(elems))\n",
    "channels =  elems[0].select('.search-filter-button')\n",
    "print(len(channels))\n",
    "\n"
   ]
  },
  {
   "cell_type": "code",
   "execution_count": 55,
   "metadata": {},
   "outputs": [
    {
     "name": "stdout",
     "output_type": "stream",
     "text": [
      "00'erne\n",
      "24 fortællinger om Händels Messias\n",
      "24 lysende stjerner fra 10'erne\n",
      "24 musikudtryk ifølge P2 - podcast\n",
      "2GOBOG\n",
      "2% tilbage\n",
      "365 fra P8 JAZZ - Maraton\n",
      "365 på P6 BEAT\n",
      "365 på P7 MIX\n",
      "45 omdrejninger\n",
      "4. division\n",
      "90'ernes helte: Tyggegummipoppen\n",
      "Absolute Absolute Music\n",
      "Adam Holm i Syrien\n",
      "Afslag på et kys\n",
      "Aftenland\n"
     ]
    }
   ],
   "source": [
    "#Then find all titles on https://www.dr.dk/radio/programmer?side=1\n",
    "r = requests.get('https://www.dr.dk/radio/programmer')\n",
    "r.raise_for_status()\n",
    "\n",
    "soup = bs4.BeautifulSoup(r.text, 'html.parser')\n",
    "#elems = soup.select('.spot-content > h3')\n",
    "elems = soup.select('.spot-list-search__spot a')\n",
    "for el in elems:\n",
    "    #print(el.getText())\n",
    "    print(el.get('aria-label'))\n"
   ]
  },
  {
   "cell_type": "code",
   "execution_count": 48,
   "metadata": {},
   "outputs": [
    {
     "name": "stdout",
     "output_type": "stream",
     "text": [
      "['Hansen', 'Beier', 'Jensen', 'Kold', 'Harold']\n"
     ]
    }
   ],
   "source": [
    "import re\n",
    "#In the following text find all the family names of everyone with first name Peter:\n",
    "\n",
    "txt = \"\"\"Peter Hansen was meeting up with Jacob Fransen for a quick lunch, but first he had to go by Peter Beier to pick up some chokolate for his wife. Meanwhile Pastor Peter Jensen was going to church to give his sermon for the same 3 people in his parish. Those were Peter Kold and Henrik Halberg plus a third person who had recently moved here from Norway called Peter Harold\"\"\"\n",
    "\n",
    "text_reg = re.compile(r'Peter (\\w+)')\n",
    "\n",
    "mo = text_reg.findall(txt)\n",
    "print(mo)"
   ]
  },
  {
   "cell_type": "code",
   "execution_count": null,
   "metadata": {},
   "outputs": [],
   "source": [
    "#Find a web site to interact with and fill out a form to get some information back.\n",
    "\n"
   ]
  }
 ],
 "metadata": {
  "kernelspec": {
   "display_name": "Python 3",
   "language": "python",
   "name": "python3"
  },
  "language_info": {
   "codemirror_mode": {
    "name": "ipython",
    "version": 3
   },
   "file_extension": ".py",
   "mimetype": "text/x-python",
   "name": "python",
   "nbconvert_exporter": "python",
   "pygments_lexer": "ipython3",
   "version": "3.7.6"
  }
 },
 "nbformat": 4,
 "nbformat_minor": 4
}
