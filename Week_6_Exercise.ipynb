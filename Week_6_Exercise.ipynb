{
 "cells": [
  {
   "cell_type": "markdown",
   "metadata": {},
   "source": [
    "# Exercise 1"
   ]
  },
  {
   "cell_type": "code",
   "execution_count": 57,
   "metadata": {},
   "outputs": [
    {
     "name": "stdout",
     "output_type": "stream",
     "text": [
      "('input.txt', 3.0)\n"
     ]
    }
   ],
   "source": [
    "#Create a module containing a class with the following methods:\n",
    "\n",
    "#init(self, url_list)\n",
    "#download(url,filename) raises NotFoundException when url returns 404\n",
    "#multi_download() uses threads to download multiple urls as text and stores filenames as a property\n",
    "#iter() returns an iterator\n",
    "#next() returns the next filename (and stops when there are no more)\n",
    "#urllist_generator() returns a generator to loop through the urls\n",
    "#avg_vowels(text) - a rough estimate on readability returns average number of vowels in the words of the text\n",
    "#hardest_read() returns the filename of the text with the highest vowel score (use all the cpu cores on the computer for this work.\n",
    "\n",
    "import requests\n",
    "from concurrent.futures import ThreadPoolExecutor\n",
    "from concurrent.futures import ProcessPoolExecutor\n",
    "import multiprocessing\n",
    "\n",
    "\n",
    "class BookHandler:\n",
    "\n",
    "    def __init__(self, url_list):\n",
    "        self.url_list = url_list\n",
    "\n",
    "    def download(self, url, filename):\n",
    "        r = requests.get(url)\n",
    "        if (r.status_code == 404):\n",
    "            raise Exception(\"url not found\")\n",
    "        with open(filename, 'w+') as fd:\n",
    "            fd.write(r.text)\n",
    "\n",
    "    def multi_download(self):\n",
    "        self.files = []\n",
    "        executor = ThreadPoolExecutor(len(self.url_list))\n",
    "        for idx, url in enumerate(self.url_list):\n",
    "            filename = 'book'+str(idx)+'.txt'\n",
    "            self.files.append(filename)\n",
    "            executor.submit(self.download(url, filename))\n",
    "\n",
    "    def __iter__(self):\n",
    "        self.current_index = 0\n",
    "        return self\n",
    "\n",
    "    def __next__(self):\n",
    "        if self.current_index > len(self.files) - 1:\n",
    "            raise StopIteration  # signals \"the end\"\n",
    "        result = self.files[self.current_index]\n",
    "        self.current_index += 1\n",
    "        return result\n",
    "\n",
    "    def urllist_generator(self):\n",
    "        for url in self.url_list:\n",
    "            yield url\n",
    "\n",
    "    def avg_vowels(self, text):\n",
    "        vowels = ['a', 'e', 'i', 'o', 'u', 'y']\n",
    "        with open(text, 'rt') as fd:\n",
    "            data = fd.read()\n",
    "            words = data.split()\n",
    "            count = 0\n",
    "            for word in words:\n",
    "                lower = word.lower()\n",
    "                for i in range(0, len(lower)):\n",
    "                    if lower[i] in vowels:\n",
    "                        count += 1\n",
    "            return {text: count / len(words)}\n",
    "\n",
    "    def hardest_read(self):\n",
    "        executor = ProcessPoolExecutor(multiprocessing.cpu_count())\n",
    "        with ProcessPoolExecutor(multiprocessing.cpu_count()) as ex:\n",
    "            res = ex.map(self.avg_vowels, self.files)\n",
    "        result = {k: v for d in res for k, v in d.items()}\n",
    "        result_sorted = {k: v for k, v in sorted(\n",
    "            result.items(), key=lambda item: item[1], reverse=True)}\n",
    "        return next(iter(result_sorted.items()))\n",
    "\n"
   ]
  }
 ],
 "metadata": {
  "kernelspec": {
   "display_name": "Python 3",
   "language": "python",
   "name": "python3"
  },
  "language_info": {
   "codemirror_mode": {
    "name": "ipython",
    "version": 3
   },
   "file_extension": ".py",
   "mimetype": "text/x-python",
   "name": "python",
   "nbconvert_exporter": "python",
   "pygments_lexer": "ipython3",
   "version": "3.7.6"
  }
 },
 "nbformat": 4,
 "nbformat_minor": 4
}
