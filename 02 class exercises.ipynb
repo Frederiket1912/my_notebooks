{
 "cells": [
  {
   "cell_type": "markdown",
   "metadata": {},
   "source": [
    "# 02 Loops\n"
   ]
  },
  {
   "cell_type": "code",
   "execution_count": 3,
   "metadata": {},
   "outputs": [
    {
     "name": "stdout",
     "output_type": "stream",
     "text": [
      "other time be\n",
      "other time be\n",
      "other time have\n",
      "other time do\n",
      "other time say\n",
      "other year be\n",
      "other year have\n",
      "other year do\n",
      "other year say\n",
      "other people be\n",
      "other people have\n",
      "other people do\n",
      "other people say\n",
      "other way be\n",
      "other way have\n",
      "other way do\n",
      "other way say\n",
      "new time be\n",
      "new time have\n",
      "new time do\n",
      "new time say\n",
      "new year be\n",
      "new year have\n",
      "new year do\n",
      "new year say\n",
      "new people be\n",
      "new people have\n",
      "new people do\n",
      "new people say\n",
      "new way be\n",
      "new way have\n",
      "new way do\n",
      "new way say\n",
      "good time be\n",
      "good time have\n",
      "good time do\n",
      "good time say\n",
      "good year be\n",
      "good year have\n",
      "good year do\n",
      "good year say\n",
      "good people be\n",
      "good people have\n",
      "good people do\n",
      "good people say\n",
      "good way be\n",
      "good way have\n",
      "good way do\n",
      "good way say\n",
      "high time be\n",
      "high time have\n",
      "high time do\n",
      "high time say\n",
      "high year be\n",
      "high year have\n",
      "high year do\n",
      "high year say\n",
      "high people be\n",
      "high people have\n",
      "high people do\n",
      "high people say\n",
      "high way be\n",
      "high way have\n",
      "high way do\n",
      "high way say\n"
     ]
    }
   ],
   "source": [
    "verbs = ['be','have','do','say']\n",
    "nouns = ['time', 'year', 'people', 'way']\n",
    "adjectives = ['other', 'new', 'good', 'high']\n",
    "\n",
    "import random\n",
    "\n",
    "verb_ = verbs[random.randrange(0,len(verbs))]\n",
    "noun_ = nouns[random.randrange(0,len(nouns))]\n",
    "adj_ = adjectives[random.randrange(0,len(adjectives))]\n",
    "\n",
    "print(adj_ + \" \" + noun_ + \" \" + verb_)\n",
    "\n",
    "for adj in adjectives:\n",
    "    for noun in nouns:\n",
    "        for verb in verbs:\n",
    "            print(adj + \" \" + noun + \" \" + verb)"
   ]
  },
  {
   "cell_type": "markdown",
   "metadata": {},
   "source": [
    "# 02 Functions\n"
   ]
  },
  {
   "cell_type": "code",
   "execution_count": 25,
   "metadata": {},
   "outputs": [
    {
     "name": "stdout",
     "output_type": "stream",
     "text": [
      "Per\n",
      "Hans\n",
      "Helle\n"
     ]
    }
   ],
   "source": [
    "names = [\"Per\", \"Hans\", \"Helle\"]\n",
    "\n",
    "def rec_func(idx, arr):\n",
    "    if(idx < len(arr)):\n",
    "        print(arr[idx])\n",
    "        rec_func(idx+1, arr)\n",
    "    else:\n",
    "        return\n",
    "    \n",
    "rec_func(0, names)\n"
   ]
  },
  {
   "cell_type": "code",
   "execution_count": 21,
   "metadata": {},
   "outputs": [
    {
     "name": "stdout",
     "output_type": "stream",
     "text": [
      "hejmeddig\n",
      "10\n"
     ]
    }
   ],
   "source": [
    "def conc_func(*args):\n",
    "    if(isinstance(args[0],int)):\n",
    "        result = 0\n",
    "    else:\n",
    "        result = \"\"\n",
    "    for arg in args:\n",
    "            result += arg\n",
    "    print(result)\n",
    "\n",
    "conc_func(\"hej\", \"med\", \"dig\")\n",
    "conc_func(2,3,5)"
   ]
  }
 ],
 "metadata": {
  "kernelspec": {
   "display_name": "Python 3",
   "language": "python",
   "name": "python3"
  },
  "language_info": {
   "codemirror_mode": {
    "name": "ipython",
    "version": 3
   },
   "file_extension": ".py",
   "mimetype": "text/x-python",
   "name": "python",
   "nbconvert_exporter": "python",
   "pygments_lexer": "ipython3",
   "version": "3.7.6"
  }
 },
 "nbformat": 4,
 "nbformat_minor": 4
}
